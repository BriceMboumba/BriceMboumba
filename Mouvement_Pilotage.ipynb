{
  "nbformat": 4,
  "nbformat_minor": 0,
  "metadata": {
    "colab": {
      "name": "Mouvement_Pilotage.ipynb",
      "provenance": [],
      "collapsed_sections": [],
      "authorship_tag": "ABX9TyOvIs5K8zwJj22X1yxz64/r",
      "include_colab_link": true
    },
    "kernelspec": {
      "name": "python3",
      "display_name": "Python 3"
    }
  },
  "cells": [
    {
      "cell_type": "markdown",
      "metadata": {
        "id": "view-in-github",
        "colab_type": "text"
      },
      "source": [
        "<a href=\"https://colab.research.google.com/github/BriceMboumba/BriceMboumba/blob/master/Mouvement_Pilotage.ipynb\" target=\"_parent\"><img src=\"https://colab.research.google.com/assets/colab-badge.svg\" alt=\"Open In Colab\"/></a>"
      ]
    },
    {
      "cell_type": "markdown",
      "metadata": {
        "id": "1JW2HvQan2IN"
      },
      "source": [
        "*Partie I : nettoyage des données*"
      ]
    },
    {
      "cell_type": "code",
      "metadata": {
        "id": "Ylh-B5ZdAh04"
      },
      "source": [
        "#Importation des library \n",
        "import numpy as np\n",
        "import pandas as pd\n",
        "import matplotlib.pyplot as plt\n",
        "import seaborn  as sns\n",
        "import math"
      ],
      "execution_count": null,
      "outputs": []
    },
    {
      "cell_type": "code",
      "metadata": {
        "id": "UKDouq0TFprq",
        "colab": {
          "resources": {
            "http://localhost:8080/nbextensions/google.colab/files.js": {
              "data": "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",
              "ok": true,
              "headers": [
                [
                  "content-type",
                  "application/javascript"
                ]
              ],
              "status": 200,
              "status_text": ""
            }
          },
          "base_uri": "https://localhost:8080/",
          "height": 74
        },
        "outputId": "2f3f77be-c026-4bcf-f3e0-cbef8751be50"
      },
      "source": [
        "#Chargement du dataset\n",
        "from google.colab import files\n",
        "upload = files.upload()\n"
      ],
      "execution_count": null,
      "outputs": [
        {
          "output_type": "display_data",
          "data": {
            "text/html": [
              "\n",
              "     <input type=\"file\" id=\"files-3050ec8e-ea87-44dd-97dc-0171fdfb1b92\" name=\"files[]\" multiple disabled />\n",
              "     <output id=\"result-3050ec8e-ea87-44dd-97dc-0171fdfb1b92\">\n",
              "      Upload widget is only available when the cell has been executed in the\n",
              "      current browser session. Please rerun this cell to enable.\n",
              "      </output>\n",
              "      <script src=\"/nbextensions/google.colab/files.js\"></script> "
            ],
            "text/plain": [
              "<IPython.core.display.HTML object>"
            ]
          },
          "metadata": {
            "tags": []
          }
        },
        {
          "output_type": "stream",
          "text": [
            "Saving MOUVEMENT_PILOTAGE_MAGASIN.csv to MOUVEMENT_PILOTAGE_MAGASIN.csv\n"
          ],
          "name": "stdout"
        }
      ]
    },
    {
      "cell_type": "code",
      "metadata": {
        "id": "UNeFDzRfGHCQ",
        "colab": {
          "base_uri": "https://localhost:8080/",
          "height": 546
        },
        "outputId": "4a294e7c-a9bc-42ad-c25f-e5c715138e3e"
      },
      "source": [
        "#Lecture du dataset avec pandas\n",
        "dataset = pd.read_csv('MOUVEMENT_PILOTAGE_MAGASIN.csv', sep = ';')\n",
        "\n",
        "#Affichage des 10 premiers éléments du tableau pour avoir un apperçu\n",
        "dataset.head(10)"
      ],
      "execution_count": null,
      "outputs": [
        {
          "output_type": "execute_result",
          "data": {
            "text/html": [
              "<div>\n",
              "<style scoped>\n",
              "    .dataframe tbody tr th:only-of-type {\n",
              "        vertical-align: middle;\n",
              "    }\n",
              "\n",
              "    .dataframe tbody tr th {\n",
              "        vertical-align: top;\n",
              "    }\n",
              "\n",
              "    .dataframe thead th {\n",
              "        text-align: right;\n",
              "    }\n",
              "</style>\n",
              "<table border=\"1\" class=\"dataframe\">\n",
              "  <thead>\n",
              "    <tr style=\"text-align: right;\">\n",
              "      <th></th>\n",
              "      <th>Unité</th>\n",
              "      <th>Magasin</th>\n",
              "      <th>Code matériel</th>\n",
              "      <th>Libellé</th>\n",
              "      <th>Type de mouvement</th>\n",
              "      <th>Quantité mouvementée</th>\n",
              "      <th>Date du mouvement</th>\n",
              "      <th>Prénom et nom</th>\n",
              "      <th>Raison sociale</th>\n",
              "      <th>BNU</th>\n",
              "    </tr>\n",
              "  </thead>\n",
              "  <tbody>\n",
              "    <tr>\n",
              "      <th>0</th>\n",
              "      <td>BEL</td>\n",
              "      <td>OUT ZC TR2</td>\n",
              "      <td>LOECL6,5LP</td>\n",
              "      <td>LAMPE PORTO A LEDS</td>\n",
              "      <td>Emprunt Client</td>\n",
              "      <td>1</td>\n",
              "      <td>29/11/2019</td>\n",
              "      <td>LUIS MANUEL MOREIRA ALVES 180526</td>\n",
              "      <td>ORANO DS DEMANTELEMENT ET SERVICES</td>\n",
              "      <td>180526.0</td>\n",
              "    </tr>\n",
              "    <tr>\n",
              "      <th>1</th>\n",
              "      <td>BEL</td>\n",
              "      <td>OUT ZC TR2</td>\n",
              "      <td>CSCD4D40-200-BEL037</td>\n",
              "      <td>CLE DYNAMOMETRIQUE DE 40 A 200 NM</td>\n",
              "      <td>Emprunt Client</td>\n",
              "      <td>1</td>\n",
              "      <td>29/11/2019</td>\n",
              "      <td>LUIS MANUEL MOREIRA ALVES 180526</td>\n",
              "      <td>ORANO DS DEMANTELEMENT ET SERVICES</td>\n",
              "      <td>180526.0</td>\n",
              "    </tr>\n",
              "    <tr>\n",
              "      <th>2</th>\n",
              "      <td>BEL</td>\n",
              "      <td>OUT ZC TR2</td>\n",
              "      <td>CDD12CSN24</td>\n",
              "      <td>DOUILLE 1/2 COURTE SA 24 BOS 691160</td>\n",
              "      <td>Emprunt Client</td>\n",
              "      <td>1</td>\n",
              "      <td>29/11/2019</td>\n",
              "      <td>LUIS MANUEL MOREIRA ALVES 180526</td>\n",
              "      <td>ORANO DS DEMANTELEMENT ET SERVICES</td>\n",
              "      <td>180526.0</td>\n",
              "    </tr>\n",
              "    <tr>\n",
              "      <th>3</th>\n",
              "      <td>BEL</td>\n",
              "      <td>OUT ZC TR2</td>\n",
              "      <td>CLMACHEXC6</td>\n",
              "      <td>CLE MALE COURTE HEXAGONALE COUDEE DE 6\\n</td>\n",
              "      <td>Emprunt Client</td>\n",
              "      <td>1</td>\n",
              "      <td>29/11/2019</td>\n",
              "      <td>DOMINIQUE MENGOZZI 248182</td>\n",
              "      <td>KSB SERVICE ENERGIE</td>\n",
              "      <td>248182.0</td>\n",
              "    </tr>\n",
              "    <tr>\n",
              "      <th>4</th>\n",
              "      <td>BEL</td>\n",
              "      <td>OUT ZC TR2</td>\n",
              "      <td>ISMULMCVERR</td>\n",
              "      <td>PINCE MULTIPRISE DENTURE TOTALE</td>\n",
              "      <td>Emprunt Client</td>\n",
              "      <td>1</td>\n",
              "      <td>29/11/2019</td>\n",
              "      <td>DOMINIQUE MENGOZZI 248182</td>\n",
              "      <td>KSB SERVICE ENERGIE</td>\n",
              "      <td>248182.0</td>\n",
              "    </tr>\n",
              "    <tr>\n",
              "      <th>5</th>\n",
              "      <td>BEL</td>\n",
              "      <td>OUT ZC TR2</td>\n",
              "      <td>PICOUDIAST</td>\n",
              "      <td>PINCE COUPANTE DIAGONALE</td>\n",
              "      <td>Emprunt Client</td>\n",
              "      <td>1</td>\n",
              "      <td>29/11/2019</td>\n",
              "      <td>DOMINIQUE MENGOZZI 248182</td>\n",
              "      <td>KSB SERVICE ENERGIE</td>\n",
              "      <td>248182.0</td>\n",
              "    </tr>\n",
              "    <tr>\n",
              "      <th>6</th>\n",
              "      <td>BEL</td>\n",
              "      <td>OUT ZC TR2</td>\n",
              "      <td>CLMOM20</td>\n",
              "      <td>CLE A MOLETTE  6</td>\n",
              "      <td>Emprunt Client</td>\n",
              "      <td>1</td>\n",
              "      <td>29/11/2019</td>\n",
              "      <td>DOMINIQUE MENGOZZI 248182</td>\n",
              "      <td>KSB SERVICE ENERGIE</td>\n",
              "      <td>248182.0</td>\n",
              "    </tr>\n",
              "    <tr>\n",
              "      <th>7</th>\n",
              "      <td>BEL</td>\n",
              "      <td>OUT ZC TR2</td>\n",
              "      <td>UBMDE828000-BEL003</td>\n",
              "      <td>MEULEUSE DROITE ELECTRIQUE 8 MM 28000 TOURS</td>\n",
              "      <td>Emprunt Client</td>\n",
              "      <td>1</td>\n",
              "      <td>29/11/2019</td>\n",
              "      <td>JULIEN UBEDA 635928</td>\n",
              "      <td>MONTEIRO</td>\n",
              "      <td>635928.0</td>\n",
              "    </tr>\n",
              "    <tr>\n",
              "      <th>8</th>\n",
              "      <td>BEL</td>\n",
              "      <td>OUT ZC TR2</td>\n",
              "      <td>MHPAGMANTSTD-BEL036</td>\n",
              "      <td>POMPE A GRAISSE TRANSLUCIDE</td>\n",
              "      <td>Emprunt Client</td>\n",
              "      <td>1</td>\n",
              "      <td>29/11/2019</td>\n",
              "      <td>ALEXANDRE ROCHA 255593</td>\n",
              "      <td>SPIE NUCLEAIRE</td>\n",
              "      <td>255593.0</td>\n",
              "    </tr>\n",
              "    <tr>\n",
              "      <th>9</th>\n",
              "      <td>BEL</td>\n",
              "      <td>OUT ZC TR2</td>\n",
              "      <td>MECD4D5-25-BEL008</td>\n",
              "      <td>CLE DYNAMO A DECLENCHEMENT PRECISION 4% DE 5 A...</td>\n",
              "      <td>Emprunt Client</td>\n",
              "      <td>1</td>\n",
              "      <td>29/11/2019</td>\n",
              "      <td>THIBAUT JOURDAIN 415440</td>\n",
              "      <td>KSB SERVICE ENERGIE</td>\n",
              "      <td>415440.0</td>\n",
              "    </tr>\n",
              "  </tbody>\n",
              "</table>\n",
              "</div>"
            ],
            "text/plain": [
              "  Unité     Magasin  ...                      Raison sociale       BNU\n",
              "0   BEL  OUT ZC TR2  ...  ORANO DS DEMANTELEMENT ET SERVICES  180526.0\n",
              "1   BEL  OUT ZC TR2  ...  ORANO DS DEMANTELEMENT ET SERVICES  180526.0\n",
              "2   BEL  OUT ZC TR2  ...  ORANO DS DEMANTELEMENT ET SERVICES  180526.0\n",
              "3   BEL  OUT ZC TR2  ...                 KSB SERVICE ENERGIE  248182.0\n",
              "4   BEL  OUT ZC TR2  ...                 KSB SERVICE ENERGIE  248182.0\n",
              "5   BEL  OUT ZC TR2  ...                 KSB SERVICE ENERGIE  248182.0\n",
              "6   BEL  OUT ZC TR2  ...                 KSB SERVICE ENERGIE  248182.0\n",
              "7   BEL  OUT ZC TR2  ...                            MONTEIRO  635928.0\n",
              "8   BEL  OUT ZC TR2  ...                      SPIE NUCLEAIRE  255593.0\n",
              "9   BEL  OUT ZC TR2  ...                 KSB SERVICE ENERGIE  415440.0\n",
              "\n",
              "[10 rows x 10 columns]"
            ]
          },
          "metadata": {
            "tags": []
          },
          "execution_count": 10
        }
      ]
    },
    {
      "cell_type": "code",
      "metadata": {
        "id": "sCBc179zJjqe",
        "colab": {
          "base_uri": "https://localhost:8080/",
          "height": 359
        },
        "outputId": "3e935c1f-20b7-4a27-fd31-86d883371731"
      },
      "source": [
        "#Suppression des variables non significatives\n",
        "dataset = dataset.drop(['Unité', 'Magasin', 'Code matériel', 'Prénom et nom' , 'BNU'], axis = 1)\n",
        "\n",
        "#Affichage des 10 premiers éléments du tableau sans les variables non significatives\n",
        "dataset.head(10)"
      ],
      "execution_count": null,
      "outputs": [
        {
          "output_type": "execute_result",
          "data": {
            "text/html": [
              "<div>\n",
              "<style scoped>\n",
              "    .dataframe tbody tr th:only-of-type {\n",
              "        vertical-align: middle;\n",
              "    }\n",
              "\n",
              "    .dataframe tbody tr th {\n",
              "        vertical-align: top;\n",
              "    }\n",
              "\n",
              "    .dataframe thead th {\n",
              "        text-align: right;\n",
              "    }\n",
              "</style>\n",
              "<table border=\"1\" class=\"dataframe\">\n",
              "  <thead>\n",
              "    <tr style=\"text-align: right;\">\n",
              "      <th></th>\n",
              "      <th>Libellé</th>\n",
              "      <th>Type de mouvement</th>\n",
              "      <th>Quantité mouvementée</th>\n",
              "      <th>Date du mouvement</th>\n",
              "      <th>Raison sociale</th>\n",
              "    </tr>\n",
              "  </thead>\n",
              "  <tbody>\n",
              "    <tr>\n",
              "      <th>0</th>\n",
              "      <td>LAMPE PORTO A LEDS</td>\n",
              "      <td>Emprunt Client</td>\n",
              "      <td>1</td>\n",
              "      <td>29/11/2019</td>\n",
              "      <td>ORANO DS DEMANTELEMENT ET SERVICES</td>\n",
              "    </tr>\n",
              "    <tr>\n",
              "      <th>1</th>\n",
              "      <td>CLE DYNAMOMETRIQUE DE 40 A 200 NM</td>\n",
              "      <td>Emprunt Client</td>\n",
              "      <td>1</td>\n",
              "      <td>29/11/2019</td>\n",
              "      <td>ORANO DS DEMANTELEMENT ET SERVICES</td>\n",
              "    </tr>\n",
              "    <tr>\n",
              "      <th>2</th>\n",
              "      <td>DOUILLE 1/2 COURTE SA 24 BOS 691160</td>\n",
              "      <td>Emprunt Client</td>\n",
              "      <td>1</td>\n",
              "      <td>29/11/2019</td>\n",
              "      <td>ORANO DS DEMANTELEMENT ET SERVICES</td>\n",
              "    </tr>\n",
              "    <tr>\n",
              "      <th>3</th>\n",
              "      <td>CLE MALE COURTE HEXAGONALE COUDEE DE 6\\n</td>\n",
              "      <td>Emprunt Client</td>\n",
              "      <td>1</td>\n",
              "      <td>29/11/2019</td>\n",
              "      <td>KSB SERVICE ENERGIE</td>\n",
              "    </tr>\n",
              "    <tr>\n",
              "      <th>4</th>\n",
              "      <td>PINCE MULTIPRISE DENTURE TOTALE</td>\n",
              "      <td>Emprunt Client</td>\n",
              "      <td>1</td>\n",
              "      <td>29/11/2019</td>\n",
              "      <td>KSB SERVICE ENERGIE</td>\n",
              "    </tr>\n",
              "    <tr>\n",
              "      <th>5</th>\n",
              "      <td>PINCE COUPANTE DIAGONALE</td>\n",
              "      <td>Emprunt Client</td>\n",
              "      <td>1</td>\n",
              "      <td>29/11/2019</td>\n",
              "      <td>KSB SERVICE ENERGIE</td>\n",
              "    </tr>\n",
              "    <tr>\n",
              "      <th>6</th>\n",
              "      <td>CLE A MOLETTE  6</td>\n",
              "      <td>Emprunt Client</td>\n",
              "      <td>1</td>\n",
              "      <td>29/11/2019</td>\n",
              "      <td>KSB SERVICE ENERGIE</td>\n",
              "    </tr>\n",
              "    <tr>\n",
              "      <th>7</th>\n",
              "      <td>MEULEUSE DROITE ELECTRIQUE 8 MM 28000 TOURS</td>\n",
              "      <td>Emprunt Client</td>\n",
              "      <td>1</td>\n",
              "      <td>29/11/2019</td>\n",
              "      <td>MONTEIRO</td>\n",
              "    </tr>\n",
              "    <tr>\n",
              "      <th>8</th>\n",
              "      <td>POMPE A GRAISSE TRANSLUCIDE</td>\n",
              "      <td>Emprunt Client</td>\n",
              "      <td>1</td>\n",
              "      <td>29/11/2019</td>\n",
              "      <td>SPIE NUCLEAIRE</td>\n",
              "    </tr>\n",
              "    <tr>\n",
              "      <th>9</th>\n",
              "      <td>CLE DYNAMO A DECLENCHEMENT PRECISION 4% DE 5 A...</td>\n",
              "      <td>Emprunt Client</td>\n",
              "      <td>1</td>\n",
              "      <td>29/11/2019</td>\n",
              "      <td>KSB SERVICE ENERGIE</td>\n",
              "    </tr>\n",
              "  </tbody>\n",
              "</table>\n",
              "</div>"
            ],
            "text/plain": [
              "                                             Libellé  ...                      Raison sociale\n",
              "0                                 LAMPE PORTO A LEDS  ...  ORANO DS DEMANTELEMENT ET SERVICES\n",
              "1                  CLE DYNAMOMETRIQUE DE 40 A 200 NM  ...  ORANO DS DEMANTELEMENT ET SERVICES\n",
              "2                DOUILLE 1/2 COURTE SA 24 BOS 691160  ...  ORANO DS DEMANTELEMENT ET SERVICES\n",
              "3           CLE MALE COURTE HEXAGONALE COUDEE DE 6\\n  ...                 KSB SERVICE ENERGIE\n",
              "4                    PINCE MULTIPRISE DENTURE TOTALE  ...                 KSB SERVICE ENERGIE\n",
              "5                           PINCE COUPANTE DIAGONALE  ...                 KSB SERVICE ENERGIE\n",
              "6                                   CLE A MOLETTE  6  ...                 KSB SERVICE ENERGIE\n",
              "7        MEULEUSE DROITE ELECTRIQUE 8 MM 28000 TOURS  ...                            MONTEIRO\n",
              "8                        POMPE A GRAISSE TRANSLUCIDE  ...                      SPIE NUCLEAIRE\n",
              "9  CLE DYNAMO A DECLENCHEMENT PRECISION 4% DE 5 A...  ...                 KSB SERVICE ENERGIE\n",
              "\n",
              "[10 rows x 5 columns]"
            ]
          },
          "metadata": {
            "tags": []
          },
          "execution_count": 11
        }
      ]
    },
    {
      "cell_type": "code",
      "metadata": {
        "id": "t73ER-hULDe1",
        "colab": {
          "base_uri": "https://localhost:8080/",
          "height": 119
        },
        "outputId": "f773cca3-a878-4912-d8fb-1b2e6302beda"
      },
      "source": [
        "#On vérifie s'il n'y a pas de valeurs manquantes dans notre dataset\n",
        "dataset.isnull().any()"
      ],
      "execution_count": null,
      "outputs": [
        {
          "output_type": "execute_result",
          "data": {
            "text/plain": [
              "Libellé                 False\n",
              "Type de mouvement       False\n",
              "Quantité mouvementée    False\n",
              "Date du mouvement       False\n",
              "Raison sociale           True\n",
              "dtype: bool"
            ]
          },
          "metadata": {
            "tags": []
          },
          "execution_count": 12
        }
      ]
    },
    {
      "cell_type": "code",
      "metadata": {
        "id": "5zrXOYlcLzVU",
        "colab": {
          "base_uri": "https://localhost:8080/",
          "height": 119
        },
        "outputId": "1123fbea-f456-4587-e6a0-a5a4a479083f"
      },
      "source": [
        "#On remplace toutes les données valeurs manquantes par 'Unknown' vu qu'elles sont de type catégorielle et appartiennent à la colonne : Raison sociale\n",
        "dataset = dataset.fillna('Unknown')\n",
        "\n",
        "#On vérifie de nouveau s'il n'y a pas de valeurs manquantes dans notre dataset, en l'occurrence dans la colonne : Rainson sociale \n",
        "dataset.isnull().any()"
      ],
      "execution_count": null,
      "outputs": [
        {
          "output_type": "execute_result",
          "data": {
            "text/plain": [
              "Libellé                 False\n",
              "Type de mouvement       False\n",
              "Quantité mouvementée    False\n",
              "Date du mouvement       False\n",
              "Raison sociale          False\n",
              "dtype: bool"
            ]
          },
          "metadata": {
            "tags": []
          },
          "execution_count": 13
        }
      ]
    },
    {
      "cell_type": "code",
      "metadata": {
        "id": "pd70rnJVM9iU",
        "colab": {
          "base_uri": "https://localhost:8080/",
          "height": 187
        },
        "outputId": "154614fb-7a0f-4f61-b035-4678fa3a9124"
      },
      "source": [
        "#Affichage du type de dataset\n",
        "print(type(dataset))\n",
        "\n",
        "#Affichage du descriptif des données numériques du dataset\n",
        "print(dataset.describe())"
      ],
      "execution_count": null,
      "outputs": [
        {
          "output_type": "stream",
          "text": [
            "<class 'pandas.core.frame.DataFrame'>\n",
            "       Quantité mouvementée\n",
            "count          17349.000000\n",
            "mean               1.077757\n",
            "std                0.325330\n",
            "min                1.000000\n",
            "25%                1.000000\n",
            "50%                1.000000\n",
            "75%                1.000000\n",
            "max               10.000000\n"
          ],
          "name": "stdout"
        }
      ]
    },
    {
      "cell_type": "code",
      "metadata": {
        "id": "9-IJy3ulnRj0",
        "colab": {
          "base_uri": "https://localhost:8080/",
          "height": 187
        },
        "outputId": "70008a4a-2a10-4e4b-8c56-f7b660614ce4"
      },
      "source": [
        "#Affichage des informations sur le dataset\n",
        "dataset.info()"
      ],
      "execution_count": null,
      "outputs": [
        {
          "output_type": "stream",
          "text": [
            "<class 'pandas.core.frame.DataFrame'>\n",
            "RangeIndex: 17349 entries, 0 to 17348\n",
            "Data columns (total 5 columns):\n",
            "Libellé                 17349 non-null object\n",
            "Type de mouvement       17349 non-null object\n",
            "Quantité mouvementée    17349 non-null int64\n",
            "Date du mouvement       17349 non-null object\n",
            "Raison sociale          17349 non-null object\n",
            "dtypes: int64(1), object(4)\n",
            "memory usage: 677.8+ KB\n"
          ],
          "name": "stdout"
        }
      ]
    },
    {
      "cell_type": "code",
      "metadata": {
        "id": "OArWHBZ-ulUX",
        "colab": {
          "base_uri": "https://localhost:8080/",
          "height": 708
        },
        "outputId": "f20520a6-ca17-4b79-d81a-5f30881d1a05"
      },
      "source": [
        "#Affichage des données de la colonne des Quantités mouvementées\n",
        "print(dataset[['Quantité mouvementée']])\n",
        "\n",
        "#Vérification des nombres d'outils répétitfs\n",
        "print(pd.unique(dataset['Quantité mouvementée']).tolist())\n",
        "\n",
        "#Vérification du maximum d'outils que l'on peut sortir par jour\n",
        "print(dataset[['Quantité mouvementée']].max())\n",
        "\n",
        "#Création du DataFram des temps de recherche d'outils sur logiciel\n",
        "Time = pd.DataFrame(\n",
        "    {\n",
        "      'time' : [i for i in range(len(dataset))]\n",
        "    }\n",
        ")\n",
        "#Affichage du DataFram créé\n",
        "Time"
      ],
      "execution_count": null,
      "outputs": [
        {
          "output_type": "stream",
          "text": [
            "       Quantité mouvementée\n",
            "0                         1\n",
            "1                         1\n",
            "2                         1\n",
            "3                         1\n",
            "4                         1\n",
            "...                     ...\n",
            "17344                     1\n",
            "17345                     1\n",
            "17346                     1\n",
            "17347                     1\n",
            "17348                     1\n",
            "\n",
            "[17349 rows x 1 columns]\n",
            "[1, 2, 3, 4, 6, 5, 10]\n",
            "Quantité mouvementée    10\n",
            "dtype: int64\n"
          ],
          "name": "stdout"
        },
        {
          "output_type": "execute_result",
          "data": {
            "text/html": [
              "<div>\n",
              "<style scoped>\n",
              "    .dataframe tbody tr th:only-of-type {\n",
              "        vertical-align: middle;\n",
              "    }\n",
              "\n",
              "    .dataframe tbody tr th {\n",
              "        vertical-align: top;\n",
              "    }\n",
              "\n",
              "    .dataframe thead th {\n",
              "        text-align: right;\n",
              "    }\n",
              "</style>\n",
              "<table border=\"1\" class=\"dataframe\">\n",
              "  <thead>\n",
              "    <tr style=\"text-align: right;\">\n",
              "      <th></th>\n",
              "      <th>time</th>\n",
              "    </tr>\n",
              "  </thead>\n",
              "  <tbody>\n",
              "    <tr>\n",
              "      <th>0</th>\n",
              "      <td>0</td>\n",
              "    </tr>\n",
              "    <tr>\n",
              "      <th>1</th>\n",
              "      <td>1</td>\n",
              "    </tr>\n",
              "    <tr>\n",
              "      <th>2</th>\n",
              "      <td>2</td>\n",
              "    </tr>\n",
              "    <tr>\n",
              "      <th>3</th>\n",
              "      <td>3</td>\n",
              "    </tr>\n",
              "    <tr>\n",
              "      <th>4</th>\n",
              "      <td>4</td>\n",
              "    </tr>\n",
              "    <tr>\n",
              "      <th>...</th>\n",
              "      <td>...</td>\n",
              "    </tr>\n",
              "    <tr>\n",
              "      <th>17344</th>\n",
              "      <td>17344</td>\n",
              "    </tr>\n",
              "    <tr>\n",
              "      <th>17345</th>\n",
              "      <td>17345</td>\n",
              "    </tr>\n",
              "    <tr>\n",
              "      <th>17346</th>\n",
              "      <td>17346</td>\n",
              "    </tr>\n",
              "    <tr>\n",
              "      <th>17347</th>\n",
              "      <td>17347</td>\n",
              "    </tr>\n",
              "    <tr>\n",
              "      <th>17348</th>\n",
              "      <td>17348</td>\n",
              "    </tr>\n",
              "  </tbody>\n",
              "</table>\n",
              "<p>17349 rows × 1 columns</p>\n",
              "</div>"
            ],
            "text/plain": [
              "        time\n",
              "0          0\n",
              "1          1\n",
              "2          2\n",
              "3          3\n",
              "4          4\n",
              "...      ...\n",
              "17344  17344\n",
              "17345  17345\n",
              "17346  17346\n",
              "17347  17347\n",
              "17348  17348\n",
              "\n",
              "[17349 rows x 1 columns]"
            ]
          },
          "metadata": {
            "tags": []
          },
          "execution_count": 24
        }
      ]
    },
    {
      "cell_type": "code",
      "metadata": {
        "id": "0g2fb4H08Qrv"
      },
      "source": [
        "#Ajout de l'information suplémentaire sur les durées de recherche d'outils sur le logiciel\n",
        "#Remplissage du DataFram des temps de recherche en fonction du nombre d'outils\n",
        "nb = []\n",
        "for i in range(len(dataset)):\n",
        "  nb.append(dataset.loc[i, 'Quantité mouvementée']) #Récupération de la valeur de la i nième ligne de la colonne 'Quantité mouvementée'\n",
        "  if(nb[i] == 0):\n",
        "    Time.iloc[i, 0] = 10 #min                        \n",
        "  elif(nb[i] == 1):                                  \n",
        "    Time.iloc[i, 0] = 10 #min\n",
        "  elif(nb[i] == 2):\n",
        "    Time.iloc[i, 0] = 15 #min\n",
        "  elif(nb[i] == 3):\n",
        "    Time.iloc[i, 0] = 20 #min                                   Il faut noter que le 0 dans Time.iloc[i, 0] désigne la colonne du DataFram (Time) \n",
        "  elif(nb[i] == 4):                                       #auquel on ajoute la valeur trouvée : ici 0 pour la première colonne car Time n'a qu'une dimension\n",
        "    Time.iloc[i, 0] = 25 #min\n",
        "  elif(nb[i] == 5):\n",
        "    Time.iloc[i, 0] = 30 #min\n",
        "  elif(nb[i] == 6):\n",
        "    Time.iloc[i, 0] = 35 #min\n",
        "  elif(nb[i] == 10):\n",
        "    Time.iloc[i, 0] = 40 #min\n",
        "    \n",
        " "
      ],
      "execution_count": null,
      "outputs": []
    },
    {
      "cell_type": "code",
      "metadata": {
        "id": "OrM0LGZpOUog",
        "colab": {
          "base_uri": "https://localhost:8080/",
          "height": 359
        },
        "outputId": "cbf1377c-288c-4a02-a623-645c388bcf04"
      },
      "source": [
        "#On vérifie\n",
        "Time.head(10)"
      ],
      "execution_count": null,
      "outputs": [
        {
          "output_type": "execute_result",
          "data": {
            "text/html": [
              "<div>\n",
              "<style scoped>\n",
              "    .dataframe tbody tr th:only-of-type {\n",
              "        vertical-align: middle;\n",
              "    }\n",
              "\n",
              "    .dataframe tbody tr th {\n",
              "        vertical-align: top;\n",
              "    }\n",
              "\n",
              "    .dataframe thead th {\n",
              "        text-align: right;\n",
              "    }\n",
              "</style>\n",
              "<table border=\"1\" class=\"dataframe\">\n",
              "  <thead>\n",
              "    <tr style=\"text-align: right;\">\n",
              "      <th></th>\n",
              "      <th>time</th>\n",
              "    </tr>\n",
              "  </thead>\n",
              "  <tbody>\n",
              "    <tr>\n",
              "      <th>0</th>\n",
              "      <td>10</td>\n",
              "    </tr>\n",
              "    <tr>\n",
              "      <th>1</th>\n",
              "      <td>10</td>\n",
              "    </tr>\n",
              "    <tr>\n",
              "      <th>2</th>\n",
              "      <td>10</td>\n",
              "    </tr>\n",
              "    <tr>\n",
              "      <th>3</th>\n",
              "      <td>10</td>\n",
              "    </tr>\n",
              "    <tr>\n",
              "      <th>4</th>\n",
              "      <td>10</td>\n",
              "    </tr>\n",
              "    <tr>\n",
              "      <th>5</th>\n",
              "      <td>10</td>\n",
              "    </tr>\n",
              "    <tr>\n",
              "      <th>6</th>\n",
              "      <td>10</td>\n",
              "    </tr>\n",
              "    <tr>\n",
              "      <th>7</th>\n",
              "      <td>10</td>\n",
              "    </tr>\n",
              "    <tr>\n",
              "      <th>8</th>\n",
              "      <td>10</td>\n",
              "    </tr>\n",
              "    <tr>\n",
              "      <th>9</th>\n",
              "      <td>10</td>\n",
              "    </tr>\n",
              "  </tbody>\n",
              "</table>\n",
              "</div>"
            ],
            "text/plain": [
              "   time\n",
              "0    10\n",
              "1    10\n",
              "2    10\n",
              "3    10\n",
              "4    10\n",
              "5    10\n",
              "6    10\n",
              "7    10\n",
              "8    10\n",
              "9    10"
            ]
          },
          "metadata": {
            "tags": []
          },
          "execution_count": 18
        }
      ]
    },
    {
      "cell_type": "code",
      "metadata": {
        "id": "J1NiwOEbsujV"
      },
      "source": [
        "New_dataset = pd.concat([dataset, Time], axis = 1) # 'concat' de pandas n'est sûrement pas le meilleure moyen de joindre deux tableaux numpy\n",
        "                                                   # car plus on compile/exécute le code plus il concatène le DataFram, et donc génère des doublants \n"
      ],
      "execution_count": null,
      "outputs": []
    },
    {
      "cell_type": "code",
      "metadata": {
        "id": "W3IYHIwLbi7J",
        "colab": {
          "base_uri": "https://localhost:8080/",
          "height": 419
        },
        "outputId": "b38d5bcb-4b33-49b8-9f6e-86550e1532e8"
      },
      "source": [
        "#Affichage du nouveau dataset avec le temps (Time)\n",
        "New_dataset "
      ],
      "execution_count": null,
      "outputs": [
        {
          "output_type": "execute_result",
          "data": {
            "text/html": [
              "<div>\n",
              "<style scoped>\n",
              "    .dataframe tbody tr th:only-of-type {\n",
              "        vertical-align: middle;\n",
              "    }\n",
              "\n",
              "    .dataframe tbody tr th {\n",
              "        vertical-align: top;\n",
              "    }\n",
              "\n",
              "    .dataframe thead th {\n",
              "        text-align: right;\n",
              "    }\n",
              "</style>\n",
              "<table border=\"1\" class=\"dataframe\">\n",
              "  <thead>\n",
              "    <tr style=\"text-align: right;\">\n",
              "      <th></th>\n",
              "      <th>Libellé</th>\n",
              "      <th>Type de mouvement</th>\n",
              "      <th>Quantité mouvementée</th>\n",
              "      <th>Date du mouvement</th>\n",
              "      <th>Raison sociale</th>\n",
              "      <th>time</th>\n",
              "    </tr>\n",
              "  </thead>\n",
              "  <tbody>\n",
              "    <tr>\n",
              "      <th>0</th>\n",
              "      <td>LAMPE PORTO A LEDS</td>\n",
              "      <td>Emprunt Client</td>\n",
              "      <td>1</td>\n",
              "      <td>29/11/2019</td>\n",
              "      <td>ORANO DS DEMANTELEMENT ET SERVICES</td>\n",
              "      <td>10</td>\n",
              "    </tr>\n",
              "    <tr>\n",
              "      <th>1</th>\n",
              "      <td>CLE DYNAMOMETRIQUE DE 40 A 200 NM</td>\n",
              "      <td>Emprunt Client</td>\n",
              "      <td>1</td>\n",
              "      <td>29/11/2019</td>\n",
              "      <td>ORANO DS DEMANTELEMENT ET SERVICES</td>\n",
              "      <td>10</td>\n",
              "    </tr>\n",
              "    <tr>\n",
              "      <th>2</th>\n",
              "      <td>DOUILLE 1/2 COURTE SA 24 BOS 691160</td>\n",
              "      <td>Emprunt Client</td>\n",
              "      <td>1</td>\n",
              "      <td>29/11/2019</td>\n",
              "      <td>ORANO DS DEMANTELEMENT ET SERVICES</td>\n",
              "      <td>10</td>\n",
              "    </tr>\n",
              "    <tr>\n",
              "      <th>3</th>\n",
              "      <td>CLE MALE COURTE HEXAGONALE COUDEE DE 6\\n</td>\n",
              "      <td>Emprunt Client</td>\n",
              "      <td>1</td>\n",
              "      <td>29/11/2019</td>\n",
              "      <td>KSB SERVICE ENERGIE</td>\n",
              "      <td>10</td>\n",
              "    </tr>\n",
              "    <tr>\n",
              "      <th>4</th>\n",
              "      <td>PINCE MULTIPRISE DENTURE TOTALE</td>\n",
              "      <td>Emprunt Client</td>\n",
              "      <td>1</td>\n",
              "      <td>29/11/2019</td>\n",
              "      <td>KSB SERVICE ENERGIE</td>\n",
              "      <td>10</td>\n",
              "    </tr>\n",
              "    <tr>\n",
              "      <th>...</th>\n",
              "      <td>...</td>\n",
              "      <td>...</td>\n",
              "      <td>...</td>\n",
              "      <td>...</td>\n",
              "      <td>...</td>\n",
              "      <td>...</td>\n",
              "    </tr>\n",
              "    <tr>\n",
              "      <th>17344</th>\n",
              "      <td>ESCABEAU ALU 5 MARCHES</td>\n",
              "      <td>Emprunt Client</td>\n",
              "      <td>1</td>\n",
              "      <td>04/03/2019</td>\n",
              "      <td>BOUYGUES ENERGIES ET SERVICES</td>\n",
              "      <td>10</td>\n",
              "    </tr>\n",
              "    <tr>\n",
              "      <th>17345</th>\n",
              "      <td>ESCABEAU ALUMINIUM 3 M</td>\n",
              "      <td>Emprunt Client</td>\n",
              "      <td>1</td>\n",
              "      <td>04/03/2019</td>\n",
              "      <td>BOUYGUES ENERGIES ET SERVICES</td>\n",
              "      <td>10</td>\n",
              "    </tr>\n",
              "    <tr>\n",
              "      <th>17346</th>\n",
              "      <td>PERCEUSE AUTONOME</td>\n",
              "      <td>Emprunt Client</td>\n",
              "      <td>1</td>\n",
              "      <td>04/03/2019</td>\n",
              "      <td>BOUYGUES ENERGIES ET SERVICES</td>\n",
              "      <td>10</td>\n",
              "    </tr>\n",
              "    <tr>\n",
              "      <th>17347</th>\n",
              "      <td>ETAUX POUR ETABLI ETAUX90001</td>\n",
              "      <td>Emprunt Client</td>\n",
              "      <td>1</td>\n",
              "      <td>04/03/2019</td>\n",
              "      <td>FIVES NORDON</td>\n",
              "      <td>10</td>\n",
              "    </tr>\n",
              "    <tr>\n",
              "      <th>17348</th>\n",
              "      <td>ETABLI PLIABLE  ETA90001</td>\n",
              "      <td>Emprunt Client</td>\n",
              "      <td>1</td>\n",
              "      <td>04/03/2019</td>\n",
              "      <td>FIVES NORDON</td>\n",
              "      <td>10</td>\n",
              "    </tr>\n",
              "  </tbody>\n",
              "</table>\n",
              "<p>17349 rows × 6 columns</p>\n",
              "</div>"
            ],
            "text/plain": [
              "                                        Libellé  ... time\n",
              "0                            LAMPE PORTO A LEDS  ...   10\n",
              "1             CLE DYNAMOMETRIQUE DE 40 A 200 NM  ...   10\n",
              "2           DOUILLE 1/2 COURTE SA 24 BOS 691160  ...   10\n",
              "3      CLE MALE COURTE HEXAGONALE COUDEE DE 6\\n  ...   10\n",
              "4               PINCE MULTIPRISE DENTURE TOTALE  ...   10\n",
              "...                                         ...  ...  ...\n",
              "17344                    ESCABEAU ALU 5 MARCHES  ...   10\n",
              "17345                    ESCABEAU ALUMINIUM 3 M  ...   10\n",
              "17346                         PERCEUSE AUTONOME  ...   10\n",
              "17347              ETAUX POUR ETABLI ETAUX90001  ...   10\n",
              "17348                  ETABLI PLIABLE  ETA90001  ...   10\n",
              "\n",
              "[17349 rows x 6 columns]"
            ]
          },
          "metadata": {
            "tags": []
          },
          "execution_count": 20
        }
      ]
    },
    {
      "cell_type": "code",
      "metadata": {
        "id": "N_tF3XszK6Yv",
        "colab": {
          "base_uri": "https://localhost:8080/",
          "height": 136
        },
        "outputId": "851e7f63-0244-4c33-c461-7f269a35ff00"
      },
      "source": [
        "#On vérifie s'il n'y a pas de valeurs manquantes dans notre New_dataset\n",
        "New_dataset.isnull().any()"
      ],
      "execution_count": null,
      "outputs": [
        {
          "output_type": "execute_result",
          "data": {
            "text/plain": [
              "Libellé                 False\n",
              "Type de mouvement       False\n",
              "Quantité mouvementée    False\n",
              "Date du mouvement       False\n",
              "Raison sociale          False\n",
              "time                    False\n",
              "dtype: bool"
            ]
          },
          "metadata": {
            "tags": []
          },
          "execution_count": 25
        }
      ]
    },
    {
      "cell_type": "code",
      "metadata": {
        "id": "uYSu_Tj9e9iS",
        "colab": {
          "base_uri": "https://localhost:8080/",
          "height": 51
        },
        "outputId": "357d78b5-f471-4846-ca5d-2454e015579b"
      },
      "source": [
        "#Temps en minutes total de recherche d'outils du logiciel sur les 9 mois \n",
        "print(New_dataset[['time']].sum())"
      ],
      "execution_count": null,
      "outputs": [
        {
          "output_type": "stream",
          "text": [
            "time    180220\n",
            "dtype: int64\n"
          ],
          "name": "stdout"
        }
      ]
    },
    {
      "cell_type": "code",
      "metadata": {
        "id": "qG14V4wIN3Zg"
      },
      "source": [
        "#Sauvegarde du nouveau dataset en fichier CSV dans un hébergeur (disque C)\n",
        "Path = \"New_dataset.csv\"\n",
        "New_dataset.to_csv(Path, decimal=\",\", index=False)"
      ],
      "execution_count": null,
      "outputs": []
    },
    {
      "cell_type": "markdown",
      "metadata": {
        "id": "lAwzObvKodFw"
      },
      "source": [
        "*Partie II : Machine Learning*"
      ]
    },
    {
      "cell_type": "markdown",
      "metadata": {
        "id": "FpKa_aLsAbpA"
      },
      "source": [
        "*1) Régression linéaire*"
      ]
    },
    {
      "cell_type": "code",
      "metadata": {
        "id": "jRuMSh8so5oE",
        "colab": {
          "base_uri": "https://localhost:8080/",
          "height": 386
        },
        "outputId": "c803e5a8-8ef4-45b3-dbf8-c12b68e39d21"
      },
      "source": [
        "#Prévisualisation des donées avec seaborn \n",
        "import seaborn as sns\n",
        "sns.catplot(x = \"Quantité mouvementée\", y =\"time\", data = New_dataset)"
      ],
      "execution_count": null,
      "outputs": [
        {
          "output_type": "execute_result",
          "data": {
            "text/plain": [
              "<seaborn.axisgrid.FacetGrid at 0x7fb856c66be0>"
            ]
          },
          "metadata": {
            "tags": []
          },
          "execution_count": 33
        },
        {
          "output_type": "display_data",
          "data": {
            "image/png": "[encoded data removed]",
            "text/plain": [
              "<Figure size 360x360 with 1 Axes>"
            ]
          },
          "metadata": {
            "tags": []
          }
        }
      ]
    },
    {
      "cell_type": "code",
      "metadata": {
        "id": "VpNgy-jkr7bE",
        "colab": {
          "base_uri": "https://localhost:8080/",
          "height": 493
        },
        "outputId": "6f6ef036-a53b-4d89-979a-5676ddbf711c"
      },
      "source": [
        "# Séparation des données en variables explicatives X et target y \n",
        "X = New_dataset[[\"Quantité mouvementée\"]]\n",
        "y = New_dataset[[\"time\"]]\n",
        "print(X)\n",
        "print(y)"
      ],
      "execution_count": null,
      "outputs": [
        {
          "output_type": "stream",
          "text": [
            "       Quantité mouvementée\n",
            "0                         1\n",
            "1                         1\n",
            "2                         1\n",
            "3                         1\n",
            "4                         1\n",
            "...                     ...\n",
            "17344                     1\n",
            "17345                     1\n",
            "17346                     1\n",
            "17347                     1\n",
            "17348                     1\n",
            "\n",
            "[17349 rows x 1 columns]\n",
            "       time\n",
            "0        10\n",
            "1        10\n",
            "2        10\n",
            "3        10\n",
            "4        10\n",
            "...     ...\n",
            "17344    10\n",
            "17345    10\n",
            "17346    10\n",
            "17347    10\n",
            "17348    10\n",
            "\n",
            "[17349 rows x 1 columns]\n"
          ],
          "name": "stdout"
        }
      ]
    },
    {
      "cell_type": "code",
      "metadata": {
        "id": "idQGTzXPsdWL"
      },
      "source": [
        "# Normalisation des X entre -1 et 1 afin qu'ils suivent une loi normale\n",
        "from sklearn.preprocessing import StandardScaler\n",
        "sc_X = StandardScaler()\n",
        "X = sc_X.fit_transform(X)"
      ],
      "execution_count": null,
      "outputs": []
    },
    {
      "cell_type": "code",
      "metadata": {
        "id": "kB0fASbjzx8J",
        "colab": {
          "base_uri": "https://localhost:8080/",
          "height": 153
        },
        "outputId": "00542a0f-6a54-427a-e7e5-7f228349d8f1"
      },
      "source": [
        "print(X)\n",
        "\n",
        "#dimension du vecteur des X\n",
        "print(X.shape) "
      ],
      "execution_count": null,
      "outputs": [
        {
          "output_type": "stream",
          "text": [
            "[[-0.23901536]\n",
            " [-0.23901536]\n",
            " [-0.23901536]\n",
            " ...\n",
            " [-0.23901536]\n",
            " [-0.23901536]\n",
            " [-0.23901536]]\n",
            "(17349, 1)\n"
          ],
          "name": "stdout"
        }
      ]
    },
    {
      "cell_type": "code",
      "metadata": {
        "id": "0_NvJR8Hz6E5"
      },
      "source": [
        "# Division du dataset en train et en test set \n",
        "from sklearn.model_selection import train_test_split\n",
        "X_train, X_test, y_train, y_test = train_test_split(X,y, test_size = 0.2, random_state=0) #80% de train et 20% de test (le 0.2 --> 20%)"
      ],
      "execution_count": null,
      "outputs": []
    },
    {
      "cell_type": "code",
      "metadata": {
        "id": "6KBxRNJ90H_Q",
        "colab": {
          "base_uri": "https://localhost:8080/",
          "height": 34
        },
        "outputId": "6d66bb16-a2ef-4401-d747-3465215536cf"
      },
      "source": [
        "# Création du modèle de regression linéaire \n",
        "from sklearn.linear_model import LinearRegression\n",
        "regressor = LinearRegression()\n",
        "regressor.fit(X_train, y_train)"
      ],
      "execution_count": null,
      "outputs": [
        {
          "output_type": "execute_result",
          "data": {
            "text/plain": [
              "LinearRegression(copy_X=True, fit_intercept=True, n_jobs=None, normalize=False)"
            ]
          },
          "metadata": {
            "tags": []
          },
          "execution_count": 41
        }
      ]
    },
    {
      "cell_type": "code",
      "metadata": {
        "id": "T5KQok_J1ZIf",
        "colab": {
          "base_uri": "https://localhost:8080/",
          "height": 51
        },
        "outputId": "0586f6c2-04f2-4518-8754-7517b47e927e"
      },
      "source": [
        "print(regressor.coef_)\n",
        "regressor.coef_.shape"
      ],
      "execution_count": null,
      "outputs": [
        {
          "output_type": "stream",
          "text": [
            "[[1.59699609]]\n"
          ],
          "name": "stdout"
        },
        {
          "output_type": "execute_result",
          "data": {
            "text/plain": [
              "(1, 1)"
            ]
          },
          "metadata": {
            "tags": []
          },
          "execution_count": 49
        }
      ]
    },
    {
      "cell_type": "code",
      "metadata": {
        "id": "b4wGI98X2AwT",
        "colab": {
          "base_uri": "https://localhost:8080/",
          "height": 136
        },
        "outputId": "c5e002f8-3d84-4164-acc9-bdd1742b49a6"
      },
      "source": [
        "y = 1.59699609 * X\n",
        "y # la droite est affine "
      ],
      "execution_count": null,
      "outputs": [
        {
          "output_type": "execute_result",
          "data": {
            "text/plain": [
              "array([[-0.3817066],\n",
              "       [-0.3817066],\n",
              "       [-0.3817066],\n",
              "       ...,\n",
              "       [-0.3817066],\n",
              "       [-0.3817066],\n",
              "       [-0.3817066]])"
            ]
          },
          "metadata": {
            "tags": []
          },
          "execution_count": 45
        }
      ]
    },
    {
      "cell_type": "code",
      "metadata": {
        "id": "kRGlZWnu3oHE",
        "colab": {
          "base_uri": "https://localhost:8080/",
          "height": 34
        },
        "outputId": "8e3872ae-50b8-447c-c09e-8822b5ca321a"
      },
      "source": [
        "# Evaluation du modèle \n",
        "regressor.score(X_test, y_test)"
      ],
      "execution_count": null,
      "outputs": [
        {
          "output_type": "execute_result",
          "data": {
            "text/plain": [
              "0.9996679287120305"
            ]
          },
          "metadata": {
            "tags": []
          },
          "execution_count": 46
        }
      ]
    },
    {
      "cell_type": "markdown",
      "metadata": {
        "id": "m3D0tYVy5qyB"
      },
      "source": [
        "*On obtient un coefficient de détermination R² = 0.99 : une prédiction quasi certaine !*"
      ]
    },
    {
      "cell_type": "code",
      "metadata": {
        "id": "m3ALfUMR5pu4",
        "colab": {
          "base_uri": "https://localhost:8080/",
          "height": 51
        },
        "outputId": "be21019f-d5c3-4dfd-aba8-6f63e52eba63"
      },
      "source": [
        "# Vérifcation de l'overfitting \n",
        "print(\" Score de Train : {}\\n Score de Test : {}\".format(regressor.score(X_train, y_train), regressor.score(X_test, y_test)))"
      ],
      "execution_count": null,
      "outputs": [
        {
          "output_type": "stream",
          "text": [
            " Score de Train : 0.9940313014371027\n",
            " Score de Test : 0.9996679287120305\n"
          ],
          "name": "stdout"
        }
      ]
    },
    {
      "cell_type": "markdown",
      "metadata": {
        "id": "QBLvDv_p5-I2"
      },
      "source": [
        "*Il n'y a pas d'overfiting car le test et le train sont identiques*"
      ]
    },
    {
      "cell_type": "code",
      "metadata": {
        "id": "H9wXhPD66UQy",
        "colab": {
          "base_uri": "https://localhost:8080/",
          "height": 136
        },
        "outputId": "7df48cf2-ca36-462f-fe39-de36eeb578ce"
      },
      "source": [
        "X_train"
      ],
      "execution_count": null,
      "outputs": [
        {
          "output_type": "execute_result",
          "data": {
            "text/plain": [
              "array([[-0.23901536],\n",
              "       [-0.23901536],\n",
              "       [-0.23901536],\n",
              "       ...,\n",
              "       [-0.23901536],\n",
              "       [12.05654442],\n",
              "       [-0.23901536]])"
            ]
          },
          "metadata": {
            "tags": []
          },
          "execution_count": 51
        }
      ]
    },
    {
      "cell_type": "code",
      "metadata": {
        "id": "0OiXt7XI61Xv",
        "colab": {
          "base_uri": "https://localhost:8080/",
          "height": 136
        },
        "outputId": "2b58b2f7-a3d6-4f67-ece1-1129210321b0"
      },
      "source": [
        "#Prédiction\n",
        "regressor.predict(X_train)"
      ],
      "execution_count": null,
      "outputs": [
        {
          "output_type": "execute_result",
          "data": {
            "text/plain": [
              "array([[10.00592906],\n",
              "       [10.00592906],\n",
              "       [10.00592906],\n",
              "       ...,\n",
              "       [10.00592906],\n",
              "       [29.64189   ],\n",
              "       [10.00592906]])"
            ]
          },
          "metadata": {
            "tags": []
          },
          "execution_count": 53
        }
      ]
    },
    {
      "cell_type": "code",
      "metadata": {
        "id": "G1SaT9EO693f",
        "colab": {
          "base_uri": "https://localhost:8080/",
          "height": 34
        },
        "outputId": "679bb803-0bbe-4105-ef96-dc197d0668b3"
      },
      "source": [
        "Quantity_predict = 10  #Quantité à prédire\n",
        "Quantity_predict_normalized = sc_X.transform([[Quantity_predict ]])\n",
        "print(\"Time: {}\".format(regressor.predict(Quantity_predict_normalized)[0]))"
      ],
      "execution_count": null,
      "outputs": [
        {
          "output_type": "stream",
          "text": [
            "Time: [54.18684117]\n"
          ],
          "name": "stdout"
        }
      ]
    },
    {
      "cell_type": "code",
      "metadata": {
        "id": "kZam-NiA8k0f",
        "colab": {
          "base_uri": "https://localhost:8080/",
          "height": 573
        },
        "outputId": "77796f40-905b-46c1-c1c0-4115327b61ae"
      },
      "source": [
        "# Visualisation des Training Set\n",
        "plt.scatter(X_train, y_train, color=\"red\")\n",
        "plt.plot(X_train, regressor.predict(X_train), color=\"blue\")\n",
        "plt.title(\"Temps de recherche en fonction de la Quantité d'outils (training set)\")\n",
        "plt.xlabel(\"Quantité d'outils\")\n",
        "plt.ylabel(\"Time (min)\")\n",
        "plt.show()\n",
        "\n",
        "\n",
        "# Visualisation des Test Set\n",
        "plt.scatter(X_test, y_test, color=\"red\")\n",
        "plt.plot(X_train, regressor.predict(X_train), color=\"blue\")\n",
        "plt.title(\"Temps de recherche en fonction de la Quantité d'outils (test set)\")\n",
        "plt.xlabel(\"Quantité d'outils\")\n",
        "plt.ylabel(\"Time (min)\")\n",
        "plt.show()"
      ],
      "execution_count": null,
      "outputs": [
        {
          "output_type": "display_data",
          "data": {
            "image/png": "[encoded data removed]",
            "text/plain": [
              "<Figure size 432x288 with 1 Axes>"
            ]
          },
          "metadata": {
            "tags": []
          }
        },
        {
          "output_type": "display_data",
          "data": {
            "image/png": "[encoded data removed]",
            "text/plain": [
              "<Figure size 432x288 with 1 Axes>"
            ]
          },
          "metadata": {
            "tags": []
          }
        }
      ]
    },
    {
      "cell_type": "markdown",
      "metadata": {
        "id": "-SCG7YvoAqhH"
      },
      "source": [
        "*2) Régression logistique*"
      ]
    },
    {
      "cell_type": "code",
      "metadata": {
        "id": "AGRT2-QJBXOP",
        "colab": {
          "base_uri": "https://localhost:8080/",
          "height": 419
        },
        "outputId": "37197369-dd66-48df-96bc-f4204ff6e6b6"
      },
      "source": [
        "#Dataset\n",
        "New_dataset"
      ],
      "execution_count": null,
      "outputs": [
        {
          "output_type": "execute_result",
          "data": {
            "text/html": [
              "<div>\n",
              "<style scoped>\n",
              "    .dataframe tbody tr th:only-of-type {\n",
              "        vertical-align: middle;\n",
              "    }\n",
              "\n",
              "    .dataframe tbody tr th {\n",
              "        vertical-align: top;\n",
              "    }\n",
              "\n",
              "    .dataframe thead th {\n",
              "        text-align: right;\n",
              "    }\n",
              "</style>\n",
              "<table border=\"1\" class=\"dataframe\">\n",
              "  <thead>\n",
              "    <tr style=\"text-align: right;\">\n",
              "      <th></th>\n",
              "      <th>Libellé</th>\n",
              "      <th>Type de mouvement</th>\n",
              "      <th>Quantité mouvementée</th>\n",
              "      <th>Date du mouvement</th>\n",
              "      <th>Raison sociale</th>\n",
              "      <th>time</th>\n",
              "    </tr>\n",
              "  </thead>\n",
              "  <tbody>\n",
              "    <tr>\n",
              "      <th>0</th>\n",
              "      <td>LAMPE PORTO A LEDS</td>\n",
              "      <td>Emprunt Client</td>\n",
              "      <td>1</td>\n",
              "      <td>29/11/2019</td>\n",
              "      <td>ORANO DS DEMANTELEMENT ET SERVICES</td>\n",
              "      <td>10</td>\n",
              "    </tr>\n",
              "    <tr>\n",
              "      <th>1</th>\n",
              "      <td>CLE DYNAMOMETRIQUE DE 40 A 200 NM</td>\n",
              "      <td>Emprunt Client</td>\n",
              "      <td>1</td>\n",
              "      <td>29/11/2019</td>\n",
              "      <td>ORANO DS DEMANTELEMENT ET SERVICES</td>\n",
              "      <td>10</td>\n",
              "    </tr>\n",
              "    <tr>\n",
              "      <th>2</th>\n",
              "      <td>DOUILLE 1/2 COURTE SA 24 BOS 691160</td>\n",
              "      <td>Emprunt Client</td>\n",
              "      <td>1</td>\n",
              "      <td>29/11/2019</td>\n",
              "      <td>ORANO DS DEMANTELEMENT ET SERVICES</td>\n",
              "      <td>10</td>\n",
              "    </tr>\n",
              "    <tr>\n",
              "      <th>3</th>\n",
              "      <td>CLE MALE COURTE HEXAGONALE COUDEE DE 6\\n</td>\n",
              "      <td>Emprunt Client</td>\n",
              "      <td>1</td>\n",
              "      <td>29/11/2019</td>\n",
              "      <td>KSB SERVICE ENERGIE</td>\n",
              "      <td>10</td>\n",
              "    </tr>\n",
              "    <tr>\n",
              "      <th>4</th>\n",
              "      <td>PINCE MULTIPRISE DENTURE TOTALE</td>\n",
              "      <td>Emprunt Client</td>\n",
              "      <td>1</td>\n",
              "      <td>29/11/2019</td>\n",
              "      <td>KSB SERVICE ENERGIE</td>\n",
              "      <td>10</td>\n",
              "    </tr>\n",
              "    <tr>\n",
              "      <th>...</th>\n",
              "      <td>...</td>\n",
              "      <td>...</td>\n",
              "      <td>...</td>\n",
              "      <td>...</td>\n",
              "      <td>...</td>\n",
              "      <td>...</td>\n",
              "    </tr>\n",
              "    <tr>\n",
              "      <th>17344</th>\n",
              "      <td>ESCABEAU ALU 5 MARCHES</td>\n",
              "      <td>Emprunt Client</td>\n",
              "      <td>1</td>\n",
              "      <td>04/03/2019</td>\n",
              "      <td>BOUYGUES ENERGIES ET SERVICES</td>\n",
              "      <td>10</td>\n",
              "    </tr>\n",
              "    <tr>\n",
              "      <th>17345</th>\n",
              "      <td>ESCABEAU ALUMINIUM 3 M</td>\n",
              "      <td>Emprunt Client</td>\n",
              "      <td>1</td>\n",
              "      <td>04/03/2019</td>\n",
              "      <td>BOUYGUES ENERGIES ET SERVICES</td>\n",
              "      <td>10</td>\n",
              "    </tr>\n",
              "    <tr>\n",
              "      <th>17346</th>\n",
              "      <td>PERCEUSE AUTONOME</td>\n",
              "      <td>Emprunt Client</td>\n",
              "      <td>1</td>\n",
              "      <td>04/03/2019</td>\n",
              "      <td>BOUYGUES ENERGIES ET SERVICES</td>\n",
              "      <td>10</td>\n",
              "    </tr>\n",
              "    <tr>\n",
              "      <th>17347</th>\n",
              "      <td>ETAUX POUR ETABLI ETAUX90001</td>\n",
              "      <td>Emprunt Client</td>\n",
              "      <td>1</td>\n",
              "      <td>04/03/2019</td>\n",
              "      <td>FIVES NORDON</td>\n",
              "      <td>10</td>\n",
              "    </tr>\n",
              "    <tr>\n",
              "      <th>17348</th>\n",
              "      <td>ETABLI PLIABLE  ETA90001</td>\n",
              "      <td>Emprunt Client</td>\n",
              "      <td>1</td>\n",
              "      <td>04/03/2019</td>\n",
              "      <td>FIVES NORDON</td>\n",
              "      <td>10</td>\n",
              "    </tr>\n",
              "  </tbody>\n",
              "</table>\n",
              "<p>17349 rows × 6 columns</p>\n",
              "</div>"
            ],
            "text/plain": [
              "                                        Libellé  ... time\n",
              "0                            LAMPE PORTO A LEDS  ...   10\n",
              "1             CLE DYNAMOMETRIQUE DE 40 A 200 NM  ...   10\n",
              "2           DOUILLE 1/2 COURTE SA 24 BOS 691160  ...   10\n",
              "3      CLE MALE COURTE HEXAGONALE COUDEE DE 6\\n  ...   10\n",
              "4               PINCE MULTIPRISE DENTURE TOTALE  ...   10\n",
              "...                                         ...  ...  ...\n",
              "17344                    ESCABEAU ALU 5 MARCHES  ...   10\n",
              "17345                    ESCABEAU ALUMINIUM 3 M  ...   10\n",
              "17346                         PERCEUSE AUTONOME  ...   10\n",
              "17347              ETAUX POUR ETABLI ETAUX90001  ...   10\n",
              "17348                  ETABLI PLIABLE  ETA90001  ...   10\n",
              "\n",
              "[17349 rows x 6 columns]"
            ]
          },
          "metadata": {
            "tags": []
          },
          "execution_count": 72
        }
      ]
    },
    {
      "cell_type": "code",
      "metadata": {
        "id": "caERxX8g9gKZ",
        "colab": {
          "base_uri": "https://localhost:8080/",
          "height": 386
        },
        "outputId": "f89b49db-e567-4de9-f5dc-0dd6bd64ebb2"
      },
      "source": [
        "# Visualisation\n",
        "print(sns.catplot(x=\"Quantité mouvementée\", y=\"time\", data=New_dataset, kind=\"bar\"))"
      ],
      "execution_count": null,
      "outputs": [
        {
          "output_type": "stream",
          "text": [
            "<seaborn.axisgrid.FacetGrid object at 0x7fb84f4e62e8>\n"
          ],
          "name": "stdout"
        },
        {
          "output_type": "display_data",
          "data": {
            "image/png": "[encoded data removed]",
            "text/plain": [
              "<Figure size 360x360 with 1 Axes>"
            ]
          },
          "metadata": {
            "tags": []
          }
        }
      ]
    },
    {
      "cell_type": "code",
      "metadata": {
        "id": "H5DKZwxRCokH",
        "colab": {
          "base_uri": "https://localhost:8080/",
          "height": 522
        },
        "outputId": "d5789155-e651-41da-80e5-5bc3e4a0811b"
      },
      "source": [
        "sns.lmplot(x=\"time\", y=\"Quantité mouvementée\", data=New_dataset, logistic=True)"
      ],
      "execution_count": null,
      "outputs": [
        {
          "output_type": "stream",
          "text": [
            "/usr/local/lib/python3.6/dist-packages/statsmodels/genmod/families/family.py:890: RuntimeWarning: divide by zero encountered in true_divide\n",
            "  n_endog_mu = self._clean((1. - endog) / (1. - mu))\n",
            "/usr/local/lib/python3.6/dist-packages/statsmodels/genmod/families/links.py:190: RuntimeWarning: overflow encountered in exp\n",
            "  t = np.exp(-z)\n",
            "/usr/local/lib/python3.6/dist-packages/statsmodels/genmod/families/family.py:889: RuntimeWarning: divide by zero encountered in true_divide\n",
            "  endog_mu = self._clean(endog / mu)\n",
            "/usr/local/lib/python3.6/dist-packages/statsmodels/genmod/families/family.py:890: RuntimeWarning: invalid value encountered in true_divide\n",
            "  n_endog_mu = self._clean((1. - endog) / (1. - mu))\n"
          ],
          "name": "stderr"
        },
        {
          "output_type": "execute_result",
          "data": {
            "text/plain": [
              "<seaborn.axisgrid.FacetGrid at 0x7fb84b7cdf60>"
            ]
          },
          "metadata": {
            "tags": []
          },
          "execution_count": 85
        },
        {
          "output_type": "display_data",
          "data": {
            "image/png": "[encoded data removed]",
            "text/plain": [
              "<Figure size 360x360 with 1 Axes>"
            ]
          },
          "metadata": {
            "tags": []
          }
        }
      ]
    },
    {
      "cell_type": "code",
      "metadata": {
        "id": "88y-qywcjALm"
      },
      "source": [
        ""
      ],
      "execution_count": null,
      "outputs": []
    }
  ]
}